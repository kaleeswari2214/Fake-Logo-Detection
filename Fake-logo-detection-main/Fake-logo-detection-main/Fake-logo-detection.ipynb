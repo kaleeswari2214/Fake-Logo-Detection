{
 "cells": [
  {
   "cell_type": "code",
   "execution_count": 1,
   "id": "b0900f32",
   "metadata": {
    "_cell_guid": "b1076dfc-b9ad-4769-8c92-a6c4dae69d19",
    "_uuid": "8f2839f25d086af736a60e9eeb907d3b93b6e0e5",
    "execution": {
     "iopub.execute_input": "2024-05-20T05:01:01.628861Z",
     "iopub.status.busy": "2024-05-20T05:01:01.628442Z",
     "iopub.status.idle": "2024-05-20T05:01:25.452016Z",
     "shell.execute_reply": "2024-05-20T05:01:25.450971Z"
    },
    "papermill": {
     "duration": 23.832661,
     "end_time": "2024-05-20T05:01:25.454594",
     "exception": false,
     "start_time": "2024-05-20T05:01:01.621933",
     "status": "completed"
    },
    "tags": []
   },
   "outputs": [
    {
     "name": "stderr",
     "output_type": "stream",
     "text": [
      "2024-05-20 05:01:03.571982: E external/local_xla/xla/stream_executor/cuda/cuda_dnn.cc:9261] Unable to register cuDNN factory: Attempting to register factory for plugin cuDNN when one has already been registered\n",
      "2024-05-20 05:01:03.572109: E external/local_xla/xla/stream_executor/cuda/cuda_fft.cc:607] Unable to register cuFFT factory: Attempting to register factory for plugin cuFFT when one has already been registered\n",
      "2024-05-20 05:01:03.716309: E external/local_xla/xla/stream_executor/cuda/cuda_blas.cc:1515] Unable to register cuBLAS factory: Attempting to register factory for plugin cuBLAS when one has already been registered\n"
     ]
    }
   ],
   "source": [
    "import tensorflow as tf\n",
    "import numpy as np \n",
    "from PIL import Image\n",
    "\n",
    "model = tf.saved_model.load('/kaggle/input/fake-real-logo-detection-efficientnet/EfficientNet')\n",
    "classes = [ \"Fake\" ,  \"Genuine\" , ]"
   ]
  },
  {
   "cell_type": "code",
   "execution_count": 2,
   "id": "a3fd60af",
   "metadata": {
    "execution": {
     "iopub.execute_input": "2024-05-20T05:01:25.465559Z",
     "iopub.status.busy": "2024-05-20T05:01:25.464733Z",
     "iopub.status.idle": "2024-05-20T05:01:25.711778Z",
     "shell.execute_reply": "2024-05-20T05:01:25.710596Z"
    },
    "papermill": {
     "duration": 0.254704,
     "end_time": "2024-05-20T05:01:25.714041",
     "exception": false,
     "start_time": "2024-05-20T05:01:25.459337",
     "status": "completed"
    },
    "tags": []
   },
   "outputs": [
    {
     "data": {
      "text/plain": [
       "['/kaggle/input/fakereal-logo-detection/train/Fake/000003_219ff8ff83d941b5ad689a5d1a8ef17c.jpg',\n",
       " '/kaggle/input/fakereal-logo-detection/train/Fake/scal_000003_73f957afc22d4cd9b1831060d0056a28.jpg',\n",
       " '/kaggle/input/fakereal-logo-detection/train/Fake/000005_0eab41d278204a18aa813d98d99669e1.jpg',\n",
       " '/kaggle/input/fakereal-logo-detection/train/Fake/000001_cab63118c74d4f3a9d2f3a4ff2efccaf.jpg',\n",
       " '/kaggle/input/fakereal-logo-detection/train/Fake/000001_e5f8f9fcb2074fcd8e213ad540ea2347.jpg']"
      ]
     },
     "execution_count": 2,
     "metadata": {},
     "output_type": "execute_result"
    }
   ],
   "source": [
    "Id=[]\n",
    "import numpy as np # linear algebra\n",
    "import pandas as pd # data processing, CSV file I/O (e.g. pd.read_csv)\n",
    "\n",
    "# Input data files are available in the read-only \"../input/\" directory\n",
    "# For example, running this (by clicking run or pressing Shift+Enter) will list all files under the input directory\n",
    "\n",
    "import os\n",
    "for dirname, _, filenames in os.walk('/kaggle/input/fakereal-logo-detection/train'):\n",
    "    for filename in filenames:\n",
    "        Id.append(os.path.join(dirname, filename))\n",
    "Id[:5]"
   ]
  },
  {
   "cell_type": "code",
   "execution_count": 3,
   "id": "fe42c095",
   "metadata": {
    "execution": {
     "iopub.execute_input": "2024-05-20T05:01:25.724653Z",
     "iopub.status.busy": "2024-05-20T05:01:25.724276Z",
     "iopub.status.idle": "2024-05-20T05:01:25.745368Z",
     "shell.execute_reply": "2024-05-20T05:01:25.744335Z"
    },
    "papermill": {
     "duration": 0.028633,
     "end_time": "2024-05-20T05:01:25.747435",
     "exception": false,
     "start_time": "2024-05-20T05:01:25.718802",
     "status": "completed"
    },
    "tags": []
   },
   "outputs": [
    {
     "data": {
      "text/html": [
       "<div>\n",
       "<style scoped>\n",
       "    .dataframe tbody tr th:only-of-type {\n",
       "        vertical-align: middle;\n",
       "    }\n",
       "\n",
       "    .dataframe tbody tr th {\n",
       "        vertical-align: top;\n",
       "    }\n",
       "\n",
       "    .dataframe thead th {\n",
       "        text-align: right;\n",
       "    }\n",
       "</style>\n",
       "<table border=\"1\" class=\"dataframe\">\n",
       "  <thead>\n",
       "    <tr style=\"text-align: right;\">\n",
       "      <th></th>\n",
       "      <th>filename</th>\n",
       "    </tr>\n",
       "  </thead>\n",
       "  <tbody>\n",
       "    <tr>\n",
       "      <th>0</th>\n",
       "      <td>/kaggle/input/fakereal-logo-detection/train/Fa...</td>\n",
       "    </tr>\n",
       "    <tr>\n",
       "      <th>1</th>\n",
       "      <td>/kaggle/input/fakereal-logo-detection/train/Fa...</td>\n",
       "    </tr>\n",
       "    <tr>\n",
       "      <th>2</th>\n",
       "      <td>/kaggle/input/fakereal-logo-detection/train/Fa...</td>\n",
       "    </tr>\n",
       "    <tr>\n",
       "      <th>3</th>\n",
       "      <td>/kaggle/input/fakereal-logo-detection/train/Fa...</td>\n",
       "    </tr>\n",
       "    <tr>\n",
       "      <th>4</th>\n",
       "      <td>/kaggle/input/fakereal-logo-detection/train/Fa...</td>\n",
       "    </tr>\n",
       "  </tbody>\n",
       "</table>\n",
       "</div>"
      ],
      "text/plain": [
       "                                            filename\n",
       "0  /kaggle/input/fakereal-logo-detection/train/Fa...\n",
       "1  /kaggle/input/fakereal-logo-detection/train/Fa...\n",
       "2  /kaggle/input/fakereal-logo-detection/train/Fa...\n",
       "3  /kaggle/input/fakereal-logo-detection/train/Fa...\n",
       "4  /kaggle/input/fakereal-logo-detection/train/Fa..."
      ]
     },
     "execution_count": 3,
     "metadata": {},
     "output_type": "execute_result"
    }
   ],
   "source": [
    "train=pd.DataFrame()\n",
    "train=train.assign(filename=Id)\n",
    "train.head()"
   ]
  },
  {
   "cell_type": "code",
   "execution_count": 4,
   "id": "3982ce55",
   "metadata": {
    "execution": {
     "iopub.execute_input": "2024-05-20T05:01:25.758289Z",
     "iopub.status.busy": "2024-05-20T05:01:25.757962Z",
     "iopub.status.idle": "2024-05-20T05:01:25.768537Z",
     "shell.execute_reply": "2024-05-20T05:01:25.767676Z"
    },
    "papermill": {
     "duration": 0.018422,
     "end_time": "2024-05-20T05:01:25.770545",
     "exception": false,
     "start_time": "2024-05-20T05:01:25.752123",
     "status": "completed"
    },
    "tags": []
   },
   "outputs": [
    {
     "data": {
      "text/html": [
       "<div>\n",
       "<style scoped>\n",
       "    .dataframe tbody tr th:only-of-type {\n",
       "        vertical-align: middle;\n",
       "    }\n",
       "\n",
       "    .dataframe tbody tr th {\n",
       "        vertical-align: top;\n",
       "    }\n",
       "\n",
       "    .dataframe thead th {\n",
       "        text-align: right;\n",
       "    }\n",
       "</style>\n",
       "<table border=\"1\" class=\"dataframe\">\n",
       "  <thead>\n",
       "    <tr style=\"text-align: right;\">\n",
       "      <th></th>\n",
       "      <th>filename</th>\n",
       "      <th>label</th>\n",
       "    </tr>\n",
       "  </thead>\n",
       "  <tbody>\n",
       "    <tr>\n",
       "      <th>0</th>\n",
       "      <td>/kaggle/input/fakereal-logo-detection/train/Fa...</td>\n",
       "      <td>Fake/000003_219ff8ff83d941b5ad689a5d1a8ef17c.jpg</td>\n",
       "    </tr>\n",
       "    <tr>\n",
       "      <th>1</th>\n",
       "      <td>/kaggle/input/fakereal-logo-detection/train/Fa...</td>\n",
       "      <td>Fake/scal_000003_73f957afc22d4cd9b1831060d0056...</td>\n",
       "    </tr>\n",
       "    <tr>\n",
       "      <th>2</th>\n",
       "      <td>/kaggle/input/fakereal-logo-detection/train/Fa...</td>\n",
       "      <td>Fake/000005_0eab41d278204a18aa813d98d99669e1.jpg</td>\n",
       "    </tr>\n",
       "    <tr>\n",
       "      <th>3</th>\n",
       "      <td>/kaggle/input/fakereal-logo-detection/train/Fa...</td>\n",
       "      <td>Fake/000001_cab63118c74d4f3a9d2f3a4ff2efccaf.jpg</td>\n",
       "    </tr>\n",
       "    <tr>\n",
       "      <th>4</th>\n",
       "      <td>/kaggle/input/fakereal-logo-detection/train/Fa...</td>\n",
       "      <td>Fake/000001_e5f8f9fcb2074fcd8e213ad540ea2347.jpg</td>\n",
       "    </tr>\n",
       "  </tbody>\n",
       "</table>\n",
       "</div>"
      ],
      "text/plain": [
       "                                            filename  \\\n",
       "0  /kaggle/input/fakereal-logo-detection/train/Fa...   \n",
       "1  /kaggle/input/fakereal-logo-detection/train/Fa...   \n",
       "2  /kaggle/input/fakereal-logo-detection/train/Fa...   \n",
       "3  /kaggle/input/fakereal-logo-detection/train/Fa...   \n",
       "4  /kaggle/input/fakereal-logo-detection/train/Fa...   \n",
       "\n",
       "                                               label  \n",
       "0   Fake/000003_219ff8ff83d941b5ad689a5d1a8ef17c.jpg  \n",
       "1  Fake/scal_000003_73f957afc22d4cd9b1831060d0056...  \n",
       "2   Fake/000005_0eab41d278204a18aa813d98d99669e1.jpg  \n",
       "3   Fake/000001_cab63118c74d4f3a9d2f3a4ff2efccaf.jpg  \n",
       "4   Fake/000001_e5f8f9fcb2074fcd8e213ad540ea2347.jpg  "
      ]
     },
     "execution_count": 4,
     "metadata": {},
     "output_type": "execute_result"
    }
   ],
   "source": [
    "train['label']=train['filename']\n",
    "train['label']=train['label'].str.replace('/kaggle/input/fakereal-logo-detection/train/','')\n",
    "train.head()"
   ]
  },
  {
   "cell_type": "code",
   "execution_count": 5,
   "id": "943c2d2c",
   "metadata": {
    "execution": {
     "iopub.execute_input": "2024-05-20T05:01:25.781397Z",
     "iopub.status.busy": "2024-05-20T05:01:25.781076Z",
     "iopub.status.idle": "2024-05-20T05:01:25.791843Z",
     "shell.execute_reply": "2024-05-20T05:01:25.790921Z"
    },
    "papermill": {
     "duration": 0.018717,
     "end_time": "2024-05-20T05:01:25.794091",
     "exception": false,
     "start_time": "2024-05-20T05:01:25.775374",
     "status": "completed"
    },
    "tags": []
   },
   "outputs": [
    {
     "data": {
      "text/html": [
       "<div>\n",
       "<style scoped>\n",
       "    .dataframe tbody tr th:only-of-type {\n",
       "        vertical-align: middle;\n",
       "    }\n",
       "\n",
       "    .dataframe tbody tr th {\n",
       "        vertical-align: top;\n",
       "    }\n",
       "\n",
       "    .dataframe thead th {\n",
       "        text-align: right;\n",
       "    }\n",
       "</style>\n",
       "<table border=\"1\" class=\"dataframe\">\n",
       "  <thead>\n",
       "    <tr style=\"text-align: right;\">\n",
       "      <th></th>\n",
       "      <th>filename</th>\n",
       "      <th>label</th>\n",
       "    </tr>\n",
       "  </thead>\n",
       "  <tbody>\n",
       "    <tr>\n",
       "      <th>0</th>\n",
       "      <td>/kaggle/input/fakereal-logo-detection/train/Fa...</td>\n",
       "      <td>Fake</td>\n",
       "    </tr>\n",
       "    <tr>\n",
       "      <th>1</th>\n",
       "      <td>/kaggle/input/fakereal-logo-detection/train/Fa...</td>\n",
       "      <td>Fake</td>\n",
       "    </tr>\n",
       "    <tr>\n",
       "      <th>2</th>\n",
       "      <td>/kaggle/input/fakereal-logo-detection/train/Fa...</td>\n",
       "      <td>Fake</td>\n",
       "    </tr>\n",
       "    <tr>\n",
       "      <th>3</th>\n",
       "      <td>/kaggle/input/fakereal-logo-detection/train/Fa...</td>\n",
       "      <td>Fake</td>\n",
       "    </tr>\n",
       "    <tr>\n",
       "      <th>4</th>\n",
       "      <td>/kaggle/input/fakereal-logo-detection/train/Fa...</td>\n",
       "      <td>Fake</td>\n",
       "    </tr>\n",
       "  </tbody>\n",
       "</table>\n",
       "</div>"
      ],
      "text/plain": [
       "                                            filename label\n",
       "0  /kaggle/input/fakereal-logo-detection/train/Fa...  Fake\n",
       "1  /kaggle/input/fakereal-logo-detection/train/Fa...  Fake\n",
       "2  /kaggle/input/fakereal-logo-detection/train/Fa...  Fake\n",
       "3  /kaggle/input/fakereal-logo-detection/train/Fa...  Fake\n",
       "4  /kaggle/input/fakereal-logo-detection/train/Fa...  Fake"
      ]
     },
     "execution_count": 5,
     "metadata": {},
     "output_type": "execute_result"
    }
   ],
   "source": [
    "train['label'] = train['label'].str.split('/').str[0]\n",
    "train.head()"
   ]
  },
  {
   "cell_type": "code",
   "execution_count": 6,
   "id": "26504ecc",
   "metadata": {
    "execution": {
     "iopub.execute_input": "2024-05-20T05:01:25.805606Z",
     "iopub.status.busy": "2024-05-20T05:01:25.805021Z",
     "iopub.status.idle": "2024-05-20T05:01:26.092558Z",
     "shell.execute_reply": "2024-05-20T05:01:26.091418Z"
    },
    "papermill": {
     "duration": 0.295634,
     "end_time": "2024-05-20T05:01:26.094717",
     "exception": false,
     "start_time": "2024-05-20T05:01:25.799083",
     "status": "completed"
    },
    "tags": []
   },
   "outputs": [
    {
     "data": {
      "text/plain": [
       "['/kaggle/input/fakereal-logo-detection/test/Fake/000003_48d35298f3b84da6ab643c2d72053b05.jpg',\n",
       " '/kaggle/input/fakereal-logo-detection/test/Fake/scal_000004_4d3e4825048e42ac86567332610b09d2.jpg',\n",
       " '/kaggle/input/fakereal-logo-detection/test/Fake/000002_b1df0da1c781480894569b4fe9a2c7f2.jpg',\n",
       " '/kaggle/input/fakereal-logo-detection/test/Fake/000004_15a4d20954d5473b9ae82561a8c6d9f2.jpg',\n",
       " '/kaggle/input/fakereal-logo-detection/test/Fake/000002_1a6ace07e59d46ffac5334061cc947cb.jpg']"
      ]
     },
     "execution_count": 6,
     "metadata": {},
     "output_type": "execute_result"
    }
   ],
   "source": [
    "Id=[]\n",
    "import numpy as np # linear algebra\n",
    "import pandas as pd # data processing, CSV file I/O (e.g. pd.read_csv)\n",
    "\n",
    "# Input data files are available in the read-only \"../input/\" directory\n",
    "# For example, running this (by clicking run or pressing Shift+Enter) will list all files under the input directory\n",
    "\n",
    "import os\n",
    "for dirname, _, filenames in os.walk('/kaggle/input/fakereal-logo-detection/test'):\n",
    "    for filename in filenames:\n",
    "        Id.append(os.path.join(dirname, filename))\n",
    "Id[:5]"
   ]
  },
  {
   "cell_type": "code",
   "execution_count": 7,
   "id": "f9edc526",
   "metadata": {
    "execution": {
     "iopub.execute_input": "2024-05-20T05:01:26.106365Z",
     "iopub.status.busy": "2024-05-20T05:01:26.106021Z",
     "iopub.status.idle": "2024-05-20T05:01:26.116074Z",
     "shell.execute_reply": "2024-05-20T05:01:26.115127Z"
    },
    "papermill": {
     "duration": 0.018209,
     "end_time": "2024-05-20T05:01:26.118178",
     "exception": false,
     "start_time": "2024-05-20T05:01:26.099969",
     "status": "completed"
    },
    "tags": []
   },
   "outputs": [
    {
     "data": {
      "text/html": [
       "<div>\n",
       "<style scoped>\n",
       "    .dataframe tbody tr th:only-of-type {\n",
       "        vertical-align: middle;\n",
       "    }\n",
       "\n",
       "    .dataframe tbody tr th {\n",
       "        vertical-align: top;\n",
       "    }\n",
       "\n",
       "    .dataframe thead th {\n",
       "        text-align: right;\n",
       "    }\n",
       "</style>\n",
       "<table border=\"1\" class=\"dataframe\">\n",
       "  <thead>\n",
       "    <tr style=\"text-align: right;\">\n",
       "      <th></th>\n",
       "      <th>filename</th>\n",
       "    </tr>\n",
       "  </thead>\n",
       "  <tbody>\n",
       "    <tr>\n",
       "      <th>0</th>\n",
       "      <td>/kaggle/input/fakereal-logo-detection/test/Fak...</td>\n",
       "    </tr>\n",
       "    <tr>\n",
       "      <th>1</th>\n",
       "      <td>/kaggle/input/fakereal-logo-detection/test/Fak...</td>\n",
       "    </tr>\n",
       "    <tr>\n",
       "      <th>2</th>\n",
       "      <td>/kaggle/input/fakereal-logo-detection/test/Fak...</td>\n",
       "    </tr>\n",
       "    <tr>\n",
       "      <th>3</th>\n",
       "      <td>/kaggle/input/fakereal-logo-detection/test/Fak...</td>\n",
       "    </tr>\n",
       "    <tr>\n",
       "      <th>4</th>\n",
       "      <td>/kaggle/input/fakereal-logo-detection/test/Fak...</td>\n",
       "    </tr>\n",
       "  </tbody>\n",
       "</table>\n",
       "</div>"
      ],
      "text/plain": [
       "                                            filename\n",
       "0  /kaggle/input/fakereal-logo-detection/test/Fak...\n",
       "1  /kaggle/input/fakereal-logo-detection/test/Fak...\n",
       "2  /kaggle/input/fakereal-logo-detection/test/Fak...\n",
       "3  /kaggle/input/fakereal-logo-detection/test/Fak...\n",
       "4  /kaggle/input/fakereal-logo-detection/test/Fak..."
      ]
     },
     "execution_count": 7,
     "metadata": {},
     "output_type": "execute_result"
    }
   ],
   "source": [
    "test=pd.DataFrame()\n",
    "test=test.assign(filename=Id)\n",
    "test.head()"
   ]
  },
  {
   "cell_type": "code",
   "execution_count": 8,
   "id": "50ec63e5",
   "metadata": {
    "execution": {
     "iopub.execute_input": "2024-05-20T05:01:26.131600Z",
     "iopub.status.busy": "2024-05-20T05:01:26.131244Z",
     "iopub.status.idle": "2024-05-20T05:01:26.141888Z",
     "shell.execute_reply": "2024-05-20T05:01:26.140984Z"
    },
    "papermill": {
     "duration": 0.019868,
     "end_time": "2024-05-20T05:01:26.143925",
     "exception": false,
     "start_time": "2024-05-20T05:01:26.124057",
     "status": "completed"
    },
    "tags": []
   },
   "outputs": [
    {
     "data": {
      "text/html": [
       "<div>\n",
       "<style scoped>\n",
       "    .dataframe tbody tr th:only-of-type {\n",
       "        vertical-align: middle;\n",
       "    }\n",
       "\n",
       "    .dataframe tbody tr th {\n",
       "        vertical-align: top;\n",
       "    }\n",
       "\n",
       "    .dataframe thead th {\n",
       "        text-align: right;\n",
       "    }\n",
       "</style>\n",
       "<table border=\"1\" class=\"dataframe\">\n",
       "  <thead>\n",
       "    <tr style=\"text-align: right;\">\n",
       "      <th></th>\n",
       "      <th>filename</th>\n",
       "      <th>label</th>\n",
       "    </tr>\n",
       "  </thead>\n",
       "  <tbody>\n",
       "    <tr>\n",
       "      <th>0</th>\n",
       "      <td>/kaggle/input/fakereal-logo-detection/test/Fak...</td>\n",
       "      <td>Fake/000003_48d35298f3b84da6ab643c2d72053b05.jpg</td>\n",
       "    </tr>\n",
       "    <tr>\n",
       "      <th>1</th>\n",
       "      <td>/kaggle/input/fakereal-logo-detection/test/Fak...</td>\n",
       "      <td>Fake/scal_000004_4d3e4825048e42ac86567332610b0...</td>\n",
       "    </tr>\n",
       "    <tr>\n",
       "      <th>2</th>\n",
       "      <td>/kaggle/input/fakereal-logo-detection/test/Fak...</td>\n",
       "      <td>Fake/000002_b1df0da1c781480894569b4fe9a2c7f2.jpg</td>\n",
       "    </tr>\n",
       "    <tr>\n",
       "      <th>3</th>\n",
       "      <td>/kaggle/input/fakereal-logo-detection/test/Fak...</td>\n",
       "      <td>Fake/000004_15a4d20954d5473b9ae82561a8c6d9f2.jpg</td>\n",
       "    </tr>\n",
       "    <tr>\n",
       "      <th>4</th>\n",
       "      <td>/kaggle/input/fakereal-logo-detection/test/Fak...</td>\n",
       "      <td>Fake/000002_1a6ace07e59d46ffac5334061cc947cb.jpg</td>\n",
       "    </tr>\n",
       "  </tbody>\n",
       "</table>\n",
       "</div>"
      ],
      "text/plain": [
       "                                            filename  \\\n",
       "0  /kaggle/input/fakereal-logo-detection/test/Fak...   \n",
       "1  /kaggle/input/fakereal-logo-detection/test/Fak...   \n",
       "2  /kaggle/input/fakereal-logo-detection/test/Fak...   \n",
       "3  /kaggle/input/fakereal-logo-detection/test/Fak...   \n",
       "4  /kaggle/input/fakereal-logo-detection/test/Fak...   \n",
       "\n",
       "                                               label  \n",
       "0   Fake/000003_48d35298f3b84da6ab643c2d72053b05.jpg  \n",
       "1  Fake/scal_000004_4d3e4825048e42ac86567332610b0...  \n",
       "2   Fake/000002_b1df0da1c781480894569b4fe9a2c7f2.jpg  \n",
       "3   Fake/000004_15a4d20954d5473b9ae82561a8c6d9f2.jpg  \n",
       "4   Fake/000002_1a6ace07e59d46ffac5334061cc947cb.jpg  "
      ]
     },
     "execution_count": 8,
     "metadata": {},
     "output_type": "execute_result"
    }
   ],
   "source": [
    "test['label']=test['filename']\n",
    "test['label']=test['label'].str.replace('/kaggle/input/fakereal-logo-detection/test/','')\n",
    "test.head()"
   ]
  },
  {
   "cell_type": "code",
   "execution_count": 9,
   "id": "d0c52a78",
   "metadata": {
    "execution": {
     "iopub.execute_input": "2024-05-20T05:01:26.156384Z",
     "iopub.status.busy": "2024-05-20T05:01:26.155827Z",
     "iopub.status.idle": "2024-05-20T05:01:26.165934Z",
     "shell.execute_reply": "2024-05-20T05:01:26.164810Z"
    },
    "papermill": {
     "duration": 0.01886,
     "end_time": "2024-05-20T05:01:26.168438",
     "exception": false,
     "start_time": "2024-05-20T05:01:26.149578",
     "status": "completed"
    },
    "tags": []
   },
   "outputs": [
    {
     "data": {
      "text/html": [
       "<div>\n",
       "<style scoped>\n",
       "    .dataframe tbody tr th:only-of-type {\n",
       "        vertical-align: middle;\n",
       "    }\n",
       "\n",
       "    .dataframe tbody tr th {\n",
       "        vertical-align: top;\n",
       "    }\n",
       "\n",
       "    .dataframe thead th {\n",
       "        text-align: right;\n",
       "    }\n",
       "</style>\n",
       "<table border=\"1\" class=\"dataframe\">\n",
       "  <thead>\n",
       "    <tr style=\"text-align: right;\">\n",
       "      <th></th>\n",
       "      <th>filename</th>\n",
       "      <th>label</th>\n",
       "    </tr>\n",
       "  </thead>\n",
       "  <tbody>\n",
       "    <tr>\n",
       "      <th>0</th>\n",
       "      <td>/kaggle/input/fakereal-logo-detection/test/Fak...</td>\n",
       "      <td>Fake</td>\n",
       "    </tr>\n",
       "    <tr>\n",
       "      <th>1</th>\n",
       "      <td>/kaggle/input/fakereal-logo-detection/test/Fak...</td>\n",
       "      <td>Fake</td>\n",
       "    </tr>\n",
       "    <tr>\n",
       "      <th>2</th>\n",
       "      <td>/kaggle/input/fakereal-logo-detection/test/Fak...</td>\n",
       "      <td>Fake</td>\n",
       "    </tr>\n",
       "    <tr>\n",
       "      <th>3</th>\n",
       "      <td>/kaggle/input/fakereal-logo-detection/test/Fak...</td>\n",
       "      <td>Fake</td>\n",
       "    </tr>\n",
       "    <tr>\n",
       "      <th>4</th>\n",
       "      <td>/kaggle/input/fakereal-logo-detection/test/Fak...</td>\n",
       "      <td>Fake</td>\n",
       "    </tr>\n",
       "  </tbody>\n",
       "</table>\n",
       "</div>"
      ],
      "text/plain": [
       "                                            filename label\n",
       "0  /kaggle/input/fakereal-logo-detection/test/Fak...  Fake\n",
       "1  /kaggle/input/fakereal-logo-detection/test/Fak...  Fake\n",
       "2  /kaggle/input/fakereal-logo-detection/test/Fak...  Fake\n",
       "3  /kaggle/input/fakereal-logo-detection/test/Fak...  Fake\n",
       "4  /kaggle/input/fakereal-logo-detection/test/Fak...  Fake"
      ]
     },
     "execution_count": 9,
     "metadata": {},
     "output_type": "execute_result"
    }
   ],
   "source": [
    "test['label'] = test['label'].str.split('/').str[0]\n",
    "test.head()"
   ]
  },
  {
   "cell_type": "code",
   "execution_count": 10,
   "id": "76d4eb79",
   "metadata": {
    "execution": {
     "iopub.execute_input": "2024-05-20T05:01:26.180956Z",
     "iopub.status.busy": "2024-05-20T05:01:26.180643Z",
     "iopub.status.idle": "2024-05-20T05:01:32.583573Z",
     "shell.execute_reply": "2024-05-20T05:01:32.582456Z"
    },
    "papermill": {
     "duration": 6.411622,
     "end_time": "2024-05-20T05:01:32.585690",
     "exception": false,
     "start_time": "2024-05-20T05:01:26.174068",
     "status": "completed"
    },
    "tags": []
   },
   "outputs": [
    {
     "name": "stderr",
     "output_type": "stream",
     "text": [
      "/tmp/ipykernel_19/151758676.py:4: DeprecationWarning: ANTIALIAS is deprecated and will be removed in Pillow 10 (2023-07-01). Use LANCZOS or Resampling.LANCZOS instead.\n",
      "  img = img.resize((128,128), Image.ANTIALIAS)\n"
     ]
    },
    {
     "data": {
      "text/plain": [
       "['Fake', 'Fake', 'Fake', 'Genuine', 'Fake']"
      ]
     },
     "execution_count": 10,
     "metadata": {},
     "output_type": "execute_result"
    }
   ],
   "source": [
    "result=[]\n",
    "for i in test.filename:\n",
    "    img = Image.open(i).convert('RGB')\n",
    "    img = img.resize((128,128), Image.ANTIALIAS)\n",
    "    inp_numpy = np.array(img)[None]\n",
    "    inp = tf.constant(inp_numpy, dtype='float32')\n",
    "    class_scores = model(inp)[0]\n",
    "    class_index = tf.argmax(class_scores)\n",
    "    predicted_class = classes[class_index.numpy()]\n",
    "    result.append(predicted_class)\n",
    "result[:5]"
   ]
  },
  {
   "cell_type": "code",
   "execution_count": 11,
   "id": "0a14e7e0",
   "metadata": {
    "execution": {
     "iopub.execute_input": "2024-05-20T05:01:32.600132Z",
     "iopub.status.busy": "2024-05-20T05:01:32.599295Z",
     "iopub.status.idle": "2024-05-20T05:01:32.610055Z",
     "shell.execute_reply": "2024-05-20T05:01:32.609129Z"
    },
    "papermill": {
     "duration": 0.020477,
     "end_time": "2024-05-20T05:01:32.612069",
     "exception": false,
     "start_time": "2024-05-20T05:01:32.591592",
     "status": "completed"
    },
    "tags": []
   },
   "outputs": [
    {
     "data": {
      "text/html": [
       "<div>\n",
       "<style scoped>\n",
       "    .dataframe tbody tr th:only-of-type {\n",
       "        vertical-align: middle;\n",
       "    }\n",
       "\n",
       "    .dataframe tbody tr th {\n",
       "        vertical-align: top;\n",
       "    }\n",
       "\n",
       "    .dataframe thead th {\n",
       "        text-align: right;\n",
       "    }\n",
       "</style>\n",
       "<table border=\"1\" class=\"dataframe\">\n",
       "  <thead>\n",
       "    <tr style=\"text-align: right;\">\n",
       "      <th></th>\n",
       "      <th>filename</th>\n",
       "      <th>label</th>\n",
       "      <th>prediction</th>\n",
       "    </tr>\n",
       "  </thead>\n",
       "  <tbody>\n",
       "    <tr>\n",
       "      <th>0</th>\n",
       "      <td>/kaggle/input/fakereal-logo-detection/test/Fak...</td>\n",
       "      <td>Fake</td>\n",
       "      <td>Fake</td>\n",
       "    </tr>\n",
       "    <tr>\n",
       "      <th>1</th>\n",
       "      <td>/kaggle/input/fakereal-logo-detection/test/Fak...</td>\n",
       "      <td>Fake</td>\n",
       "      <td>Fake</td>\n",
       "    </tr>\n",
       "    <tr>\n",
       "      <th>2</th>\n",
       "      <td>/kaggle/input/fakereal-logo-detection/test/Fak...</td>\n",
       "      <td>Fake</td>\n",
       "      <td>Fake</td>\n",
       "    </tr>\n",
       "    <tr>\n",
       "      <th>3</th>\n",
       "      <td>/kaggle/input/fakereal-logo-detection/test/Fak...</td>\n",
       "      <td>Fake</td>\n",
       "      <td>Genuine</td>\n",
       "    </tr>\n",
       "    <tr>\n",
       "      <th>4</th>\n",
       "      <td>/kaggle/input/fakereal-logo-detection/test/Fak...</td>\n",
       "      <td>Fake</td>\n",
       "      <td>Fake</td>\n",
       "    </tr>\n",
       "  </tbody>\n",
       "</table>\n",
       "</div>"
      ],
      "text/plain": [
       "                                            filename label prediction\n",
       "0  /kaggle/input/fakereal-logo-detection/test/Fak...  Fake       Fake\n",
       "1  /kaggle/input/fakereal-logo-detection/test/Fak...  Fake       Fake\n",
       "2  /kaggle/input/fakereal-logo-detection/test/Fak...  Fake       Fake\n",
       "3  /kaggle/input/fakereal-logo-detection/test/Fak...  Fake    Genuine\n",
       "4  /kaggle/input/fakereal-logo-detection/test/Fak...  Fake       Fake"
      ]
     },
     "execution_count": 11,
     "metadata": {},
     "output_type": "execute_result"
    }
   ],
   "source": [
    "test=test.assign(prediction=result)\n",
    "test.head()"
   ]
  },
  {
   "cell_type": "code",
   "execution_count": 12,
   "id": "08a87665",
   "metadata": {
    "execution": {
     "iopub.execute_input": "2024-05-20T05:01:32.625216Z",
     "iopub.status.busy": "2024-05-20T05:01:32.624900Z",
     "iopub.status.idle": "2024-05-20T05:01:54.009270Z",
     "shell.execute_reply": "2024-05-20T05:01:54.008321Z"
    },
    "papermill": {
     "duration": 21.393378,
     "end_time": "2024-05-20T05:01:54.011358",
     "exception": false,
     "start_time": "2024-05-20T05:01:32.617980",
     "status": "completed"
    },
    "tags": []
   },
   "outputs": [
    {
     "name": "stderr",
     "output_type": "stream",
     "text": [
      "/tmp/ipykernel_19/428230293.py:4: DeprecationWarning: ANTIALIAS is deprecated and will be removed in Pillow 10 (2023-07-01). Use LANCZOS or Resampling.LANCZOS instead.\n",
      "  img = img.resize((128,128), Image.ANTIALIAS)\n"
     ]
    },
    {
     "data": {
      "text/plain": [
       "['Fake', 'Genuine', 'Genuine', 'Fake', 'Fake']"
      ]
     },
     "execution_count": 12,
     "metadata": {},
     "output_type": "execute_result"
    }
   ],
   "source": [
    "result=[]\n",
    "for i in train.filename:\n",
    "    img = Image.open(i).convert('RGB')\n",
    "    img = img.resize((128,128), Image.ANTIALIAS)\n",
    "    inp_numpy = np.array(img)[None]\n",
    "    inp = tf.constant(inp_numpy, dtype='float32')\n",
    "    class_scores = model(inp)[0]\n",
    "    class_index = tf.argmax(class_scores)\n",
    "    predicted_class = classes[class_index.numpy()]\n",
    "    result.append(predicted_class)\n",
    "result[:5]"
   ]
  },
  {
   "cell_type": "code",
   "execution_count": 13,
   "id": "a497eaad",
   "metadata": {
    "execution": {
     "iopub.execute_input": "2024-05-20T05:01:54.025313Z",
     "iopub.status.busy": "2024-05-20T05:01:54.024964Z",
     "iopub.status.idle": "2024-05-20T05:01:54.036253Z",
     "shell.execute_reply": "2024-05-20T05:01:54.035346Z"
    },
    "papermill": {
     "duration": 0.020555,
     "end_time": "2024-05-20T05:01:54.038232",
     "exception": false,
     "start_time": "2024-05-20T05:01:54.017677",
     "status": "completed"
    },
    "tags": []
   },
   "outputs": [
    {
     "data": {
      "text/html": [
       "<div>\n",
       "<style scoped>\n",
       "    .dataframe tbody tr th:only-of-type {\n",
       "        vertical-align: middle;\n",
       "    }\n",
       "\n",
       "    .dataframe tbody tr th {\n",
       "        vertical-align: top;\n",
       "    }\n",
       "\n",
       "    .dataframe thead th {\n",
       "        text-align: right;\n",
       "    }\n",
       "</style>\n",
       "<table border=\"1\" class=\"dataframe\">\n",
       "  <thead>\n",
       "    <tr style=\"text-align: right;\">\n",
       "      <th></th>\n",
       "      <th>filename</th>\n",
       "      <th>label</th>\n",
       "      <th>prediction</th>\n",
       "    </tr>\n",
       "  </thead>\n",
       "  <tbody>\n",
       "    <tr>\n",
       "      <th>0</th>\n",
       "      <td>/kaggle/input/fakereal-logo-detection/train/Fa...</td>\n",
       "      <td>Fake</td>\n",
       "      <td>Fake</td>\n",
       "    </tr>\n",
       "    <tr>\n",
       "      <th>1</th>\n",
       "      <td>/kaggle/input/fakereal-logo-detection/train/Fa...</td>\n",
       "      <td>Fake</td>\n",
       "      <td>Genuine</td>\n",
       "    </tr>\n",
       "    <tr>\n",
       "      <th>2</th>\n",
       "      <td>/kaggle/input/fakereal-logo-detection/train/Fa...</td>\n",
       "      <td>Fake</td>\n",
       "      <td>Genuine</td>\n",
       "    </tr>\n",
       "    <tr>\n",
       "      <th>3</th>\n",
       "      <td>/kaggle/input/fakereal-logo-detection/train/Fa...</td>\n",
       "      <td>Fake</td>\n",
       "      <td>Fake</td>\n",
       "    </tr>\n",
       "    <tr>\n",
       "      <th>4</th>\n",
       "      <td>/kaggle/input/fakereal-logo-detection/train/Fa...</td>\n",
       "      <td>Fake</td>\n",
       "      <td>Fake</td>\n",
       "    </tr>\n",
       "  </tbody>\n",
       "</table>\n",
       "</div>"
      ],
      "text/plain": [
       "                                            filename label prediction\n",
       "0  /kaggle/input/fakereal-logo-detection/train/Fa...  Fake       Fake\n",
       "1  /kaggle/input/fakereal-logo-detection/train/Fa...  Fake    Genuine\n",
       "2  /kaggle/input/fakereal-logo-detection/train/Fa...  Fake    Genuine\n",
       "3  /kaggle/input/fakereal-logo-detection/train/Fa...  Fake       Fake\n",
       "4  /kaggle/input/fakereal-logo-detection/train/Fa...  Fake       Fake"
      ]
     },
     "execution_count": 13,
     "metadata": {},
     "output_type": "execute_result"
    }
   ],
   "source": [
    "train=train.assign(prediction=result)\n",
    "train.head()"
   ]
  },
  {
   "cell_type": "code",
   "execution_count": 14,
   "id": "035d17fc",
   "metadata": {
    "execution": {
     "iopub.execute_input": "2024-05-20T05:01:54.052024Z",
     "iopub.status.busy": "2024-05-20T05:01:54.051715Z",
     "iopub.status.idle": "2024-05-20T05:01:54.879669Z",
     "shell.execute_reply": "2024-05-20T05:01:54.878468Z"
    },
    "papermill": {
     "duration": 0.837518,
     "end_time": "2024-05-20T05:01:54.882121",
     "exception": false,
     "start_time": "2024-05-20T05:01:54.044603",
     "status": "completed"
    },
    "tags": []
   },
   "outputs": [
    {
     "name": "stdout",
     "output_type": "stream",
     "text": [
      "              precision    recall  f1-score   support\n",
      "\n",
      "        Fake       0.90      0.50      0.64       439\n",
      "     Genuine       0.47      0.89      0.61       220\n",
      "\n",
      "    accuracy                           0.63       659\n",
      "   macro avg       0.68      0.69      0.63       659\n",
      "weighted avg       0.75      0.63      0.63       659\n",
      "\n"
     ]
    }
   ],
   "source": [
    "from sklearn.metrics import classification_report\n",
    "print(classification_report(train['label'],train['prediction']))"
   ]
  },
  {
   "cell_type": "code",
   "execution_count": 15,
   "id": "18f849de",
   "metadata": {
    "execution": {
     "iopub.execute_input": "2024-05-20T05:01:54.896671Z",
     "iopub.status.busy": "2024-05-20T05:01:54.896290Z",
     "iopub.status.idle": "2024-05-20T05:01:54.916437Z",
     "shell.execute_reply": "2024-05-20T05:01:54.915235Z"
    },
    "papermill": {
     "duration": 0.029985,
     "end_time": "2024-05-20T05:01:54.918694",
     "exception": false,
     "start_time": "2024-05-20T05:01:54.888709",
     "status": "completed"
    },
    "tags": []
   },
   "outputs": [
    {
     "name": "stdout",
     "output_type": "stream",
     "text": [
      "              precision    recall  f1-score   support\n",
      "\n",
      "        Fake       0.87      0.44      0.58       110\n",
      "     Genuine       0.44      0.87      0.58        55\n",
      "\n",
      "    accuracy                           0.58       165\n",
      "   macro avg       0.65      0.65      0.58       165\n",
      "weighted avg       0.73      0.58      0.58       165\n",
      "\n"
     ]
    }
   ],
   "source": [
    "print(classification_report(test['label'],test['prediction']))"
   ]
  },
  {
   "cell_type": "code",
   "execution_count": 16,
   "id": "8e453ce6",
   "metadata": {
    "execution": {
     "iopub.execute_input": "2024-05-20T05:01:54.933275Z",
     "iopub.status.busy": "2024-05-20T05:01:54.932939Z",
     "iopub.status.idle": "2024-05-20T05:02:06.830198Z",
     "shell.execute_reply": "2024-05-20T05:02:06.829187Z"
    },
    "papermill": {
     "duration": 11.907281,
     "end_time": "2024-05-20T05:02:06.832574",
     "exception": false,
     "start_time": "2024-05-20T05:01:54.925293",
     "status": "completed"
    },
    "tags": []
   },
   "outputs": [
    {
     "name": "stderr",
     "output_type": "stream",
     "text": [
      "/tmp/ipykernel_19/78297833.py:9: DeprecationWarning: ANTIALIAS is deprecated and will be removed in Pillow 10 (2023-07-01). Use LANCZOS or Resampling.LANCZOS instead.\n",
      "  img = img.resize((300, 300 * img.size[1] // img.size[0]), Image.ANTIALIAS)\n"
     ]
    },
    {
     "name": "stdout",
     "output_type": "stream",
     "text": [
      "\n",
      "class_scores [9.9999976e-01 2.4516609e-07]\n",
      "Class :  Fake\n"
     ]
    }
   ],
   "source": [
    "import tensorflow\n",
    "import numpy\n",
    "from PIL import Image\n",
    "\n",
    "model = tensorflow.saved_model.load('/kaggle/input/fake-real-logo-detection-efficientnet/EfficientNet')\n",
    "classes = [ \"Fake\" ,  \"Genuine\" , ]\n",
    "\n",
    "img = Image.open(\"/kaggle/input/fake-real-logo-detection-efficientnet/EfficientNet/image.jpg\").convert('RGB')\n",
    "img = img.resize((300, 300 * img.size[1] // img.size[0]), Image.ANTIALIAS)\n",
    "inp_numpy = numpy.array(img)[None]\n",
    "\n",
    "\n",
    "inp = tensorflow.constant(inp_numpy, dtype='float32')\n",
    "\n",
    "class_scores = model(inp)[0].numpy()\n",
    "\n",
    "\n",
    "print(\"\")\n",
    "print(\"class_scores\", class_scores)\n",
    "print(\"Class : \", classes[class_scores.argmax()])"
   ]
  }
 ],
 "metadata": {
  "kaggle": {
   "accelerator": "none",
   "dataSources": [
    {
     "datasetId": 3304105,
     "sourceId": 5743440,
     "sourceType": "datasetVersion"
    },
    {
     "datasetId": 3304251,
     "sourceId": 5743603,
     "sourceType": "datasetVersion"
    },
    {
     "datasetId": 5042837,
     "sourceId": 8459974,
     "sourceType": "datasetVersion"
    },
    {
     "datasetId": 5042872,
     "sourceId": 8460017,
     "sourceType": "datasetVersion"
    },
    {
     "datasetId": 5045391,
     "sourceId": 8463407,
     "sourceType": "datasetVersion"
    },
    {
     "sourceId": 130551379,
     "sourceType": "kernelVersion"
    }
   ],
   "dockerImageVersionId": 30698,
   "isGpuEnabled": false,
   "isInternetEnabled": false,
   "language": "python",
   "sourceType": "notebook"
  },
  "kernelspec": {
   "display_name": "Python 3",
   "language": "python",
   "name": "python3"
  },
  "language_info": {
   "codemirror_mode": {
    "name": "ipython",
    "version": 3
   },
   "file_extension": ".py",
   "mimetype": "text/x-python",
   "name": "python",
   "nbconvert_exporter": "python",
   "pygments_lexer": "ipython3",
   "version": "3.10.13"
  },
  "papermill": {
   "default_parameters": {},
   "duration": 70.397307,
   "end_time": "2024-05-20T05:02:09.457921",
   "environment_variables": {},
   "exception": null,
   "input_path": "__notebook__.ipynb",
   "output_path": "__notebook__.ipynb",
   "parameters": {},
   "start_time": "2024-05-20T05:00:59.060614",
   "version": "2.4.0"
  }
 },
 "nbformat": 4,
 "nbformat_minor": 5
}
